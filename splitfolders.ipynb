{
 "cells": [
  {
   "cell_type": "code",
   "execution_count": 1,
   "id": "c3785749",
   "metadata": {},
   "outputs": [
    {
     "name": "stderr",
     "output_type": "stream",
     "text": [
      "Copying files: 18164 files [06:48, 44.51 files/s]\n"
     ]
    }
   ],
   "source": [
    "import splitfolders\n",
    "\n",
    "splitfolders.ratio(\"E:\\PlantVillage\", \n",
    "                   output=\"train_data\", \n",
    "                   seed=42, \n",
    "                   ratio=(.75, .15, .1), \n",
    "                   group_prefix=None, \n",
    "                   move=False \n",
    "                   )"
   ]
  },
  {
   "cell_type": "code",
   "execution_count": 1,
   "id": "482f165e",
   "metadata": {},
   "outputs": [],
   "source": [
    "import numpy as np\n",
    "import time\n",
    "import copy\n",
    "import os\n",
    "import torch\n",
    "import torch.optim as optim\n",
    "import torch.nn as nn\n",
    "import torchvision\n",
    "import matplotlib.pyplot as plt\n",
    "from torch.optim import lr_scheduler\n",
    "from torchvision import datasets, models, transforms"
   ]
  },
  {
   "cell_type": "code",
   "execution_count": 2,
   "id": "407daf9f",
   "metadata": {},
   "outputs": [],
   "source": [
    "#transforms\n",
    "transforms = {\n",
    "    'train': transforms.Compose([\n",
    "        transforms.RandomResizedCrop(224),\n",
    "        transforms.RandomHorizontalFlip(),\n",
    "        transforms.ToTensor(),\n",
    "        transforms.Normalize([0.485, 0.456, 0.406], [0.229, 0.224, 0.225])\n",
    "    ]),\n",
    "    'val': transforms.Compose([\n",
    "        transforms.Resize(256),\n",
    "        transforms.CenterCrop(224),\n",
    "        transforms.ToTensor(),\n",
    "        transforms.Normalize([0.485, 0.456, 0.406], [0.229, 0.224, 0.225])\n",
    "    ]),\n",
    "    'test': transforms.Compose([\n",
    "        transforms.Resize(256),\n",
    "        transforms.CenterCrop(224),\n",
    "        transforms.ToTensor(),\n",
    "        transforms.Normalize([0.485, 0.456, 0.406], [0.229, 0.224, 0.225])\n",
    "    ])\n",
    "}"
   ]
  },
  {
   "cell_type": "code",
   "execution_count": 3,
   "id": "37b35166",
   "metadata": {},
   "outputs": [],
   "source": [
    "data_dir = 'E:/train_data'"
   ]
  },
  {
   "cell_type": "code",
   "execution_count": 4,
   "id": "cbd0eb64",
   "metadata": {},
   "outputs": [],
   "source": [
    "image_datasets = {x: datasets.ImageFolder(os.path.join(data_dir, x), transform=transforms[x])\n",
    "                  for x in ['train', 'val', 'test']}"
   ]
  },
  {
   "cell_type": "code",
   "execution_count": 5,
   "id": "f964094a",
   "metadata": {},
   "outputs": [],
   "source": [
    "\n",
    "dataloaders = {x: torch.utils.data.DataLoader(image_datasets[x], batch_size=2, shuffle=True, num_workers=2)\n",
    "               for x in ['train', 'val', 'test']}"
   ]
  },
  {
   "cell_type": "code",
   "execution_count": 6,
   "id": "efb769e0",
   "metadata": {},
   "outputs": [],
   "source": [
    "data_size = {x: len(image_datasets[x]) for x in ['train', 'val', 'test']}"
   ]
  },
  {
   "cell_type": "code",
   "execution_count": 7,
   "id": "2d7e039e",
   "metadata": {},
   "outputs": [
    {
     "data": {
      "text/plain": [
       "{'train': 13619, 'val': 2719, 'test': 1825}"
      ]
     },
     "execution_count": 7,
     "metadata": {},
     "output_type": "execute_result"
    }
   ],
   "source": [
    "data_size"
   ]
  },
  {
   "cell_type": "code",
   "execution_count": 8,
   "id": "24396515",
   "metadata": {},
   "outputs": [
    {
     "data": {
      "text/plain": [
       "['Potato___Early_blight',\n",
       " 'Potato___Late_blight',\n",
       " 'Potato___healthy',\n",
       " 'Tomato_Bacterial_spot',\n",
       " 'Tomato_Early_blight',\n",
       " 'Tomato_Late_blight',\n",
       " 'Tomato_Leaf_Mold',\n",
       " 'Tomato_Septoria_leaf_spot',\n",
       " 'Tomato_Spider_mites_Two_spotted_spider_mite',\n",
       " 'Tomato__Target_Spot',\n",
       " 'Tomato__Tomato_YellowLeaf__Curl_Virus',\n",
       " 'Tomato__Tomato_mosaic_virus',\n",
       " 'Tomato_healthy']"
      ]
     },
     "execution_count": 8,
     "metadata": {},
     "output_type": "execute_result"
    }
   ],
   "source": [
    "class_names = image_datasets['train'].classes\n",
    "class_names"
   ]
  },
  {
   "cell_type": "code",
   "execution_count": 9,
   "id": "3db10f60",
   "metadata": {},
   "outputs": [],
   "source": [
    "# Enable the GPU if it exists\n",
    "device = torch.device(\"cuda:0\" if torch.cuda.is_available() else \"cpu\")"
   ]
  },
  {
   "cell_type": "code",
   "execution_count": 10,
   "id": "27ac0d33",
   "metadata": {},
   "outputs": [
    {
     "name": "stderr",
     "output_type": "stream",
     "text": [
      "C:\\Users\\Admin\\AppData\\Local\\Programs\\Python\\Python310\\lib\\site-packages\\torchvision\\models\\_utils.py:208: UserWarning: The parameter 'pretrained' is deprecated since 0.13 and may be removed in the future, please use 'weights' instead.\n",
      "  warnings.warn(\n",
      "C:\\Users\\Admin\\AppData\\Local\\Programs\\Python\\Python310\\lib\\site-packages\\torchvision\\models\\_utils.py:223: UserWarning: Arguments other than a weight enum or `None` for 'weights' are deprecated since 0.13 and may be removed in the future. The current behavior is equivalent to passing `weights=ResNet18_Weights.IMAGENET1K_V1`. You can also use `weights=ResNet18_Weights.DEFAULT` to get the most up-to-date weights.\n",
      "  warnings.warn(msg)\n"
     ]
    }
   ],
   "source": [
    "model_resnet = models.resnet18(pretrained=True)"
   ]
  },
  {
   "cell_type": "code",
   "execution_count": 11,
   "id": "bd5d10dd",
   "metadata": {},
   "outputs": [
    {
     "name": "stderr",
     "output_type": "stream",
     "text": [
      "C:\\Users\\Admin\\AppData\\Local\\Programs\\Python\\Python310\\lib\\site-packages\\torchvision\\models\\_utils.py:223: UserWarning: Arguments other than a weight enum or `None` for 'weights' are deprecated since 0.13 and may be removed in the future. The current behavior is equivalent to passing `weights=AlexNet_Weights.IMAGENET1K_V1`. You can also use `weights=AlexNet_Weights.DEFAULT` to get the most up-to-date weights.\n",
      "  warnings.warn(msg)\n"
     ]
    }
   ],
   "source": [
    "model_alexnet = models.alexnet(pretrained=True)"
   ]
  },
  {
   "cell_type": "code",
   "execution_count": 12,
   "id": "3c878ab6",
   "metadata": {},
   "outputs": [],
   "source": [
    "# training function\n",
    "def train_model(model, criterion, optimizer, scheduler, num_epochs=25):\n",
    "    since = time.time()\n",
    "    \n",
    "    best_model_wts = copy.deepcopy(model.state_dict())\n",
    "    best_acc = 0.0\n",
    "    \n",
    "    for epoch in range(num_epochs):\n",
    "        print('Epoch {}/{}'.format(epoch, num_epochs - 1))\n",
    "        print('-' * 10)\n",
    "        \n",
    "        for phase in ['train', 'val']:\n",
    "            if phase == 'train':\n",
    "                model.train()\n",
    "            else:\n",
    "                model.eval()\n",
    "                \n",
    "            running_loss = 0.0\n",
    "            running_corrects = 0\n",
    "            \n",
    "            for inputs, labels in dataloaders[phase]:\n",
    "                inputs = inputs.to(device)\n",
    "                labels = labels.to(device)\n",
    "                \n",
    "                optimizer.zero_grad()\n",
    "                \n",
    "                with torch.set_grad_enabled(phase == 'train'):\n",
    "                    outputs = model(inputs)\n",
    "                    _, preds = torch.max(outputs, 1)\n",
    "                    loss = criterion(outputs, labels)\n",
    "                    \n",
    "                    if phase == 'train':\n",
    "                        loss.backward()\n",
    "                        optimizer.step()\n",
    "                        \n",
    "                running_loss += loss.item() * inputs.size(0)\n",
    "                running_corrects += torch.sum(preds == labels.data)\n",
    "                \n",
    "            if phase == 'train':\n",
    "                scheduler.step()\n",
    "                \n",
    "            epoch_loss = running_loss / data_size[phase]\n",
    "            epoch_acc = running_corrects.double() / data_size[phase]\n",
    "            \n",
    "            print('{} Loss: {:.4f} Acc: {:.4f}'.format(\n",
    "                phase, epoch_loss, epoch_acc))\n",
    "            \n",
    "            if phase == 'val' and epoch_acc > best_acc:\n",
    "                best_acc = epoch_acc\n",
    "                best_model_wts = copy.deepcopy(model.state_dict())\n",
    "        print()\n",
    "    \n",
    "    time_elapsed = time.time() - since\n",
    "    print('Training complete in {:.0f}m {:.0f}s'.format(\n",
    "        time_elapsed // 60, time_elapsed % 60))\n",
    "    print('Best val Acc: {:4f}'.format(best_acc))\n",
    "    \n",
    "    model.load_state_dict(best_model_wts)\n",
    "    return model,best_acc\n"
   ]
  },
  {
   "cell_type": "code",
   "execution_count": 13,
   "id": "9c1bd87b",
   "metadata": {},
   "outputs": [],
   "source": [
    "# Set the requires_grad on each parameter to false, \n",
    "# so it will not calculate the gradients\n",
    "for param in model_resnet.parameters():\n",
    "    param.requires_grad = False\n",
    "\n",
    "for param in model_alexnet.parameters():\n",
    "    param.requires_grad = False"
   ]
  },
  {
   "cell_type": "code",
   "execution_count": 14,
   "id": "c402ad51",
   "metadata": {},
   "outputs": [],
   "source": [
    "# Setting the final layer\n",
    "num_ftrs = model_resnet.fc.in_features\n",
    "model_resnet.fc = nn.Linear(num_ftrs, len(class_names))\n",
    "\n",
    "num_ftrs = model_alexnet.classifier[6].in_features\n",
    "model_alexnet.classifier[6] = nn.Linear(num_ftrs, len(class_names))"
   ]
  },
  {
   "cell_type": "code",
   "execution_count": 15,
   "id": "e54ab899",
   "metadata": {},
   "outputs": [
    {
     "data": {
      "text/plain": [
       "device(type='cuda', index=0)"
      ]
     },
     "execution_count": 15,
     "metadata": {},
     "output_type": "execute_result"
    }
   ],
   "source": [
    "device"
   ]
  },
  {
   "cell_type": "code",
   "execution_count": 16,
   "id": "ee27905a",
   "metadata": {},
   "outputs": [],
   "source": [
    "# Enable GPU for the model\n",
    "model_resnet = model_resnet.to(device)\n",
    "model_alexnet = model_alexnet.to(device)"
   ]
  },
  {
   "cell_type": "code",
   "execution_count": 17,
   "id": "a7f2e23f",
   "metadata": {},
   "outputs": [],
   "source": [
    "# Set the loss function\n",
    "criterion = nn.CrossEntropyLoss()"
   ]
  },
  {
   "cell_type": "code",
   "execution_count": 18,
   "id": "cf2380ab",
   "metadata": {},
   "outputs": [
    {
     "name": "stdout",
     "output_type": "stream",
     "text": [
      "Epoch 0/24\n",
      "----------\n",
      "train Loss: 1.8972 Acc: 0.4395\n",
      "val Loss: 0.9631 Acc: 0.7253\n",
      "\n",
      "Epoch 1/24\n",
      "----------\n",
      "train Loss: 1.7184 Acc: 0.5047\n",
      "val Loss: 0.9327 Acc: 0.7348\n",
      "\n",
      "Epoch 2/24\n",
      "----------\n",
      "train Loss: 1.7055 Acc: 0.5123\n",
      "val Loss: 1.0100 Acc: 0.7164\n",
      "\n",
      "Epoch 3/24\n",
      "----------\n",
      "train Loss: 1.6951 Acc: 0.5188\n",
      "val Loss: 0.8442 Acc: 0.7459\n",
      "\n",
      "Epoch 4/24\n",
      "----------\n",
      "train Loss: 1.6508 Acc: 0.5293\n",
      "val Loss: 1.0435 Acc: 0.7330\n",
      "\n",
      "Epoch 5/24\n",
      "----------\n",
      "train Loss: 1.6567 Acc: 0.5344\n",
      "val Loss: 1.2452 Acc: 0.6775\n",
      "\n",
      "Epoch 6/24\n",
      "----------\n",
      "train Loss: 1.6736 Acc: 0.5355\n",
      "val Loss: 1.5290 Acc: 0.6760\n",
      "\n",
      "Epoch 7/24\n",
      "----------\n",
      "train Loss: 1.3277 Acc: 0.6086\n",
      "val Loss: 1.0117 Acc: 0.7341\n",
      "\n",
      "Epoch 8/24\n",
      "----------\n",
      "train Loss: 1.2834 Acc: 0.6152\n",
      "val Loss: 1.0586 Acc: 0.7183\n",
      "\n",
      "Epoch 9/24\n",
      "----------\n",
      "train Loss: 1.2744 Acc: 0.6161\n",
      "val Loss: 0.9277 Acc: 0.7407\n",
      "\n",
      "Epoch 10/24\n",
      "----------\n",
      "train Loss: 1.2803 Acc: 0.6130\n",
      "val Loss: 1.0964 Acc: 0.7128\n",
      "\n",
      "Epoch 11/24\n",
      "----------\n",
      "train Loss: 1.2440 Acc: 0.6234\n",
      "val Loss: 0.8729 Acc: 0.7514\n",
      "\n",
      "Epoch 12/24\n",
      "----------\n",
      "train Loss: 1.2457 Acc: 0.6183\n",
      "val Loss: 0.7381 Acc: 0.7819\n",
      "\n",
      "Epoch 13/24\n",
      "----------\n",
      "train Loss: 1.2506 Acc: 0.6193\n",
      "val Loss: 0.8467 Acc: 0.7414\n",
      "\n",
      "Epoch 14/24\n",
      "----------\n",
      "train Loss: 1.2404 Acc: 0.6242\n",
      "val Loss: 0.8621 Acc: 0.7547\n",
      "\n",
      "Epoch 15/24\n",
      "----------\n",
      "train Loss: 1.2387 Acc: 0.6240\n",
      "val Loss: 0.9489 Acc: 0.7282\n",
      "\n",
      "Epoch 16/24\n",
      "----------\n",
      "train Loss: 1.2263 Acc: 0.6232\n",
      "val Loss: 0.9115 Acc: 0.7492\n",
      "\n",
      "Epoch 17/24\n",
      "----------\n",
      "train Loss: 1.2154 Acc: 0.6342\n",
      "val Loss: 0.8949 Acc: 0.7488\n",
      "\n",
      "Epoch 18/24\n",
      "----------\n",
      "train Loss: 1.2041 Acc: 0.6368\n",
      "val Loss: 0.9001 Acc: 0.7403\n",
      "\n",
      "Epoch 19/24\n",
      "----------\n",
      "train Loss: 1.2405 Acc: 0.6251\n",
      "val Loss: 0.9900 Acc: 0.7175\n",
      "\n",
      "Epoch 20/24\n",
      "----------\n",
      "train Loss: 1.2305 Acc: 0.6221\n",
      "val Loss: 0.8357 Acc: 0.7565\n",
      "\n",
      "Epoch 21/24\n",
      "----------\n",
      "train Loss: 1.2054 Acc: 0.6318\n",
      "val Loss: 0.8321 Acc: 0.7470\n",
      "\n",
      "Epoch 22/24\n",
      "----------\n",
      "train Loss: 1.2200 Acc: 0.6327\n",
      "val Loss: 0.8130 Acc: 0.7709\n",
      "\n",
      "Epoch 23/24\n",
      "----------\n",
      "train Loss: 1.2222 Acc: 0.6283\n",
      "val Loss: 0.8692 Acc: 0.7595\n",
      "\n",
      "Epoch 24/24\n",
      "----------\n",
      "train Loss: 1.2141 Acc: 0.6291\n",
      "val Loss: 0.8676 Acc: 0.7437\n",
      "\n",
      "Training complete in 66m 27s\n",
      "Best val Acc: 0.781905\n"
     ]
    }
   ],
   "source": [
    "optimizer_conv = optim.SGD(model_resnet.fc.parameters(), lr=0.001, momentum=0.9)\n",
    "exp_lr_scheduler = lr_scheduler.StepLR(optimizer_conv, step_size=7, gamma=0.1)\n",
    "model_resnet = train_model(model_resnet, criterion, optimizer_conv, exp_lr_scheduler, num_epochs=25)"
   ]
  },
  {
   "cell_type": "code",
   "execution_count": 19,
   "id": "fcb6f7e0",
   "metadata": {},
   "outputs": [
    {
     "name": "stdout",
     "output_type": "stream",
     "text": [
      "Epoch 0/24\n",
      "----------\n",
      "train Loss: 4.7547 Acc: 0.6093\n",
      "val Loss: 3.1255 Acc: 0.7547\n",
      "\n",
      "Epoch 1/24\n",
      "----------\n",
      "train Loss: 4.3999 Acc: 0.6760\n",
      "val Loss: 4.1874 Acc: 0.7532\n",
      "\n",
      "Epoch 2/24\n",
      "----------\n",
      "train Loss: 4.4422 Acc: 0.6941\n",
      "val Loss: 3.2976 Acc: 0.7896\n",
      "\n",
      "Epoch 3/24\n",
      "----------\n",
      "train Loss: 4.4428 Acc: 0.7008\n",
      "val Loss: 3.8578 Acc: 0.7823\n",
      "\n",
      "Epoch 4/24\n",
      "----------\n",
      "train Loss: 4.4508 Acc: 0.7028\n",
      "val Loss: 3.6135 Acc: 0.7966\n",
      "\n",
      "Epoch 5/24\n",
      "----------\n",
      "train Loss: 4.4288 Acc: 0.7118\n",
      "val Loss: 4.2059 Acc: 0.7819\n",
      "\n",
      "Epoch 6/24\n",
      "----------\n",
      "train Loss: 4.2884 Acc: 0.7233\n",
      "val Loss: 2.5356 Acc: 0.8319\n",
      "\n",
      "Epoch 7/24\n",
      "----------\n",
      "train Loss: 2.7850 Acc: 0.7771\n",
      "val Loss: 2.3413 Acc: 0.8360\n",
      "\n",
      "Epoch 8/24\n",
      "----------\n",
      "train Loss: 2.4980 Acc: 0.7813\n",
      "val Loss: 1.8043 Acc: 0.8606\n",
      "\n",
      "Epoch 9/24\n",
      "----------\n",
      "train Loss: 2.3101 Acc: 0.7889\n",
      "val Loss: 1.5716 Acc: 0.8654\n",
      "\n",
      "Epoch 10/24\n",
      "----------\n",
      "train Loss: 2.2600 Acc: 0.7788\n",
      "val Loss: 1.6314 Acc: 0.8602\n",
      "\n",
      "Epoch 11/24\n",
      "----------\n",
      "train Loss: 2.1323 Acc: 0.7874\n",
      "val Loss: 1.6069 Acc: 0.8599\n",
      "\n",
      "Epoch 12/24\n",
      "----------\n",
      "train Loss: 2.0728 Acc: 0.7871\n",
      "val Loss: 1.4610 Acc: 0.8650\n",
      "\n",
      "Epoch 13/24\n",
      "----------\n",
      "train Loss: 2.0604 Acc: 0.7846\n",
      "val Loss: 1.2202 Acc: 0.8757\n",
      "\n",
      "Epoch 14/24\n",
      "----------\n",
      "train Loss: 1.9209 Acc: 0.7903\n",
      "val Loss: 1.3653 Acc: 0.8658\n",
      "\n",
      "Epoch 15/24\n",
      "----------\n",
      "train Loss: 1.8552 Acc: 0.7902\n",
      "val Loss: 1.3299 Acc: 0.8716\n",
      "\n",
      "Epoch 16/24\n",
      "----------\n",
      "train Loss: 1.9008 Acc: 0.7914\n",
      "val Loss: 1.3090 Acc: 0.8705\n",
      "\n",
      "Epoch 17/24\n",
      "----------\n",
      "train Loss: 1.8335 Acc: 0.7937\n",
      "val Loss: 1.2852 Acc: 0.8716\n",
      "\n",
      "Epoch 18/24\n",
      "----------\n",
      "train Loss: 1.8179 Acc: 0.7943\n",
      "val Loss: 1.3334 Acc: 0.8687\n",
      "\n",
      "Epoch 19/24\n",
      "----------\n",
      "train Loss: 1.8883 Acc: 0.7885\n",
      "val Loss: 1.3012 Acc: 0.8705\n",
      "\n",
      "Epoch 20/24\n",
      "----------\n",
      "train Loss: 1.9058 Acc: 0.7876\n",
      "val Loss: 1.2921 Acc: 0.8731\n",
      "\n",
      "Epoch 21/24\n",
      "----------\n",
      "train Loss: 1.8090 Acc: 0.7955\n",
      "val Loss: 1.2961 Acc: 0.8735\n",
      "\n",
      "Epoch 22/24\n",
      "----------\n",
      "train Loss: 1.8385 Acc: 0.7888\n",
      "val Loss: 1.2776 Acc: 0.8735\n",
      "\n",
      "Epoch 23/24\n",
      "----------\n",
      "train Loss: 1.8316 Acc: 0.7932\n",
      "val Loss: 1.2865 Acc: 0.8731\n",
      "\n",
      "Epoch 24/24\n",
      "----------\n",
      "train Loss: 1.8385 Acc: 0.7904\n",
      "val Loss: 1.2726 Acc: 0.8739\n",
      "\n",
      "Training complete in 39m 33s\n",
      "Best val Acc: 0.875690\n"
     ]
    }
   ],
   "source": [
    "optimizer_conv = optim.SGD(model_alexnet.classifier[6].parameters(), lr=0.001, momentum=0.9)\n",
    "exp_lr_scheduler = lr_scheduler.StepLR(optimizer_conv, step_size=7, gamma=0.1)\n",
    "model_alexnet = train_model(model_alexnet, criterion, optimizer_conv, exp_lr_scheduler, num_epochs=25)"
   ]
  },
  {
   "cell_type": "code",
   "execution_count": null,
   "id": "3ac39ebc",
   "metadata": {},
   "outputs": [],
   "source": []
  }
 ],
 "metadata": {
  "kernelspec": {
   "display_name": "Python 3 (ipykernel)",
   "language": "python",
   "name": "python3"
  },
  "language_info": {
   "codemirror_mode": {
    "name": "ipython",
    "version": 3
   },
   "file_extension": ".py",
   "mimetype": "text/x-python",
   "name": "python",
   "nbconvert_exporter": "python",
   "pygments_lexer": "ipython3",
   "version": "3.10.3"
  }
 },
 "nbformat": 4,
 "nbformat_minor": 5
}
